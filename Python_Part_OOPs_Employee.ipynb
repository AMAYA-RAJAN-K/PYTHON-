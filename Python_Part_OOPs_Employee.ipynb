{
  "nbformat": 4,
  "nbformat_minor": 0,
  "metadata": {
    "colab": {
      "provenance": [],
      "authorship_tag": "ABX9TyOzBMLS8jiFw+zgFNzZA+XI"
    },
    "kernelspec": {
      "name": "python3",
      "display_name": "Python 3"
    },
    "language_info": {
      "name": "python"
    }
  },
  "cells": [
    {
      "cell_type": "code",
      "source": [
        "## Create a Python module named employee that contains a class Employee with attributes name, salary and methods get_name()\n",
        "# and get_salary(). Write a program to use this module to create an object of the Employee class and display its name and salary.\n",
        "\n",
        "\n",
        "# Define the Employee class directly in the script\n",
        "class Employee:\n",
        "    def __init__(self, name, salary):\n",
        "        self.name = name\n",
        "        self.salary = salary\n",
        "\n",
        "    def get_name(self):\n",
        "        return self.name\n",
        "\n",
        "    def get_salary(self):\n",
        "        return self.salary\n",
        "\n",
        "\n",
        "# Creating an Employee object\n",
        "emp = Employee(\"John Doe\", 50000)\n",
        "\n",
        "# Displaying employee details\n",
        "print(f\"Employee Name: {emp.get_name()}\")\n",
        "print(f\"Employee Salary: ${emp.get_salary()}\")"
      ],
      "metadata": {
        "id": "7xIQisW-ljoi",
        "colab": {
          "base_uri": "https://localhost:8080/"
        },
        "outputId": "e8235aa8-463d-4f88-d56c-50926d8825ba"
      },
      "execution_count": null,
      "outputs": [
        {
          "output_type": "stream",
          "name": "stdout",
          "text": [
            "Employee Name: John Doe\n",
            "Employee Salary: $50000\n"
          ]
        }
      ]
    }
  ]
}