{
 "cells": [
  {
   "cell_type": "code",
   "execution_count": 3,
   "id": "261f6832-8f5c-4d5d-8420-853057b89a84",
   "metadata": {},
   "outputs": [
    {
     "name": "stdout",
     "output_type": "stream",
     "text": [
      "Amaya Rajan K ST1234 amayarajeesh08@gmail.com.com\n"
     ]
    }
   ],
   "source": [
    "# Exercise 1\n",
    "print(\"Amaya Rajan K ST1234 amayarajeesh08@gmail.com.com\")"
   ]
  },
  {
   "cell_type": "code",
   "execution_count": 5,
   "id": "299f03ef-bb99-48b8-a2a3-2163fb8d19aa",
   "metadata": {},
   "outputs": [
    {
     "name": "stdout",
     "output_type": "stream",
     "text": [
      "Amaya Rajan K \n",
      "ST1234 \n",
      "amayarajeesh08@gmail.com\n"
     ]
    }
   ],
   "source": [
    "# Exercise 2\n",
    "print(\"Amaya Rajan K \\nST1234 \\namayarajeesh08@gmail.com\")"
   ]
  },
  {
   "cell_type": "code",
   "execution_count": 1,
   "id": "b7772473-984a-4431-af27-687d00af8f12",
   "metadata": {},
   "outputs": [
    {
     "name": "stdout",
     "output_type": "stream",
     "text": [
      "Additition:  21\n",
      "Subtraction:  7\n",
      "Multiplication:  98\n",
      "Division:  2.0\n"
     ]
    }
   ],
   "source": [
    "# Exercise 3\n",
    "x = 14\n",
    "y = 7\n",
    "print(\"Additition: \",x+y)\n",
    "print(\"Subtraction: \",x-y)\n",
    "print(\"Multiplication: \",x*y)\n",
    "print(\"Division: \",x/y)"
   ]
  },
  {
   "cell_type": "code",
   "execution_count": 9,
   "id": "0b74e8b0-efb4-45fd-bbec-1bb614f541aa",
   "metadata": {},
   "outputs": [
    {
     "name": "stdout",
     "output_type": "stream",
     "text": [
      "1\n",
      "2\n",
      "3\n",
      "4\n",
      "5\n"
     ]
    }
   ],
   "source": [
    "# Exercise 4\n",
    "for i in range(1, 6):\n",
    "    print(i)"
   ]
  },
  {
   "cell_type": "code",
   "execution_count": 11,
   "id": "83a7c06b-bf60-4ccc-9831-42cecf456eab",
   "metadata": {},
   "outputs": [
    {
     "name": "stdout",
     "output_type": "stream",
     "text": [
      "\"SDK\" stands for \"Software Development Kit\", whereas \"IDE\" stands for \"Integrated Development Environment\".\n"
     ]
    }
   ],
   "source": [
    "# Exercise 5\n",
    "print(\"\\\"SDK\\\" stands for \\\"Software Development Kit\\\", whereas \\\"IDE\\\" stands for \\\"Integrated Development Environment\\\".\")"
   ]
  },
  {
   "cell_type": "code",
   "execution_count": 13,
   "id": "c471361e-8806-42d0-8393-3f15fd38f448",
   "metadata": {},
   "outputs": [
    {
     "name": "stdout",
     "output_type": "stream",
     "text": [
      "python is an \"awesome\" language.\n",
      "python\n",
      "\t2023\n",
      "I'm from Entri\n",
      "5\n",
      "e\n",
      "Entri\n",
      "2023\n",
      "Entr2023\n",
      "Entri*20"
     ]
    }
   ],
   "source": [
    "# Exercise 6\n",
    "print(\"python is an \\\"awesome\\\" language.\")\n",
    "print(\"python\\n\\t2023\")\n",
    "print('I\\'m from Entri.\\b')\n",
    "print(\"\\65\")\n",
    "print(\"\\x65\")\n",
    "print(\"Entri\", \"2023\", sep=\"\\n\")\n",
    "print(\"Entri\", \"2023\", sep=\"\\b\")\n",
    "print(\"Entri\", \"2023\", sep=\"*\", end=\"\\b\\b\\b\\b\")"
   ]
  },
  {
   "cell_type": "code",
   "execution_count": 5,
   "id": "cbdaf45b-c948-4cdf-98f6-50fd08ff9b2b",
   "metadata": {},
   "outputs": [
    {
     "name": "stdout",
     "output_type": "stream",
     "text": [
      "The types are: <class 'int'> <class 'str'> <class 'float'>\n",
      "The sum is:  178.3\n",
      "The type of the sum is:  <class 'float'>\n"
     ]
    }
   ],
   "source": [
    "# Exercise 7\n",
    "num = 23\n",
    "textnum = \"57\"\n",
    "decimal = 98.3\n",
    "sum_result = num + int(textnum) + decimal\n",
    "print(\"The types are:\", type(num), type(textnum), type(decimal))\n",
    "print(\"The sum is: \",sum_result)\n",
    "print(\"The type of the sum is: \",type(sum_result))"
   ]
  },
  {
   "cell_type": "code",
   "execution_count": 7,
   "id": "079612cb-f620-449e-b46f-8df7145434b8",
   "metadata": {},
   "outputs": [
    {
     "name": "stdout",
     "output_type": "stream",
     "text": [
      "The total number of minutes in a year is:  525600\n"
     ]
    }
   ],
   "source": [
    "# Exercise 8\n",
    "# This code calculates the number of minutes in a year.\n",
    "days_in_year = 365\n",
    "minutes_in_hour = 60\n",
    "hours_in_day = 24\n",
    "total_minutes = days_in_year * hours_in_day * minutes_in_hour\n",
    "print(\"The total number of minutes in a year is: \",total_minutes)"
   ]
  },
  {
   "cell_type": "code",
   "execution_count": 9,
   "id": "532e4510-40e9-4dd9-a480-1c28861e1334",
   "metadata": {},
   "outputs": [
    {
     "name": "stdin",
     "output_type": "stream",
     "text": [
      "Please enter your name:  Amaya Rajan K\n"
     ]
    },
    {
     "name": "stdout",
     "output_type": "stream",
     "text": [
      "Hi Amaya Rajan K, welcome to Python programming :)\n"
     ]
    }
   ],
   "source": [
    "# Exercise 9\n",
    "name = input(\"Please enter your name: \")\n",
    "print(f\"Hi {name}, welcome to Python programming :)\")\n"
   ]
  },
  {
   "cell_type": "code",
   "execution_count": 7,
   "id": "c8be2b42-7c89-4ebc-9155-1d7a7363641a",
   "metadata": {},
   "outputs": [
    {
     "name": "stdin",
     "output_type": "stream",
     "text": [
      "Please enter amount in pounds:  100\n"
     ]
    },
    {
     "name": "stdout",
     "output_type": "stream",
     "text": [
      "£100.0 are $135.00\n"
     ]
    }
   ],
   "source": [
    "# Exercise 10\n",
    "# File Name: PoundsToDollars.py\n",
    "pounds = float(input(\"Please enter amount in pounds: \"))\n",
    "dollar_conversion_rate = 1.35  # Example conversion rate\n",
    "usd = pounds * dollar_conversion_rate\n",
    "print(f\"\\u00A3{pounds} are ${usd:.2f}\")"
   ]
  },
  {
   "cell_type": "code",
   "execution_count": null,
   "id": "71f61c9b-7332-4089-95d6-48b8671d6235",
   "metadata": {},
   "outputs": [],
   "source": []
  }
 ],
 "metadata": {
  "kernelspec": {
   "display_name": "Python 3 (ipykernel)",
   "language": "python",
   "name": "python3"
  },
  "language_info": {
   "codemirror_mode": {
    "name": "ipython",
    "version": 3
   },
   "file_extension": ".py",
   "mimetype": "text/x-python",
   "name": "python",
   "nbconvert_exporter": "python",
   "pygments_lexer": "ipython3",
   "version": "3.12.7"
  }
 },
 "nbformat": 4,
 "nbformat_minor": 5
}
