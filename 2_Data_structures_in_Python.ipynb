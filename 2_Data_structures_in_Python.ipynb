{
  "nbformat": 4,
  "nbformat_minor": 0,
  "metadata": {
    "colab": {
      "provenance": [],
      "authorship_tag": "ABX9TyOkPyUSYbkrIy3+axB6VNWv",
      "include_colab_link": true
    },
    "kernelspec": {
      "name": "python3",
      "display_name": "Python 3"
    },
    "language_info": {
      "name": "python"
    }
  },
  "cells": [
    {
      "cell_type": "markdown",
      "metadata": {
        "id": "view-in-github",
        "colab_type": "text"
      },
      "source": [
        "<a href=\"https://colab.research.google.com/github/AMAYA-RAJAN-K/PYTHON-/blob/main/2_Data_structures_in_Python.ipynb\" target=\"_parent\"><img src=\"https://colab.research.google.com/assets/colab-badge.svg\" alt=\"Open In Colab\"/></a>"
      ]
    },
    {
      "cell_type": "markdown",
      "source": [
        "## List Exercise"
      ],
      "metadata": {
        "id": "P1P--rMTKak9"
      }
    },
    {
      "cell_type": "code",
      "execution_count": 3,
      "metadata": {
        "colab": {
          "base_uri": "https://localhost:8080/"
        },
        "id": "lUB2NU2qKPcU",
        "outputId": "42dd3515-75ec-41e3-a449-c3d1aa7f0ce7"
      },
      "outputs": [
        {
          "output_type": "stream",
          "name": "stdout",
          "text": [
            "List of 5 random numbers: [20, 35, 42, 57, 68]\n"
          ]
        }
      ],
      "source": [
        "## Q1. Create a list of 5 random numbers and print the list.\n",
        "list1 = [20,35,42,57,68]\n",
        "print(\"List of 5 random numbers:\",list1)"
      ]
    },
    {
      "cell_type": "code",
      "source": [
        "## Q2. Insert 3 new values to the list and print the updated list.\n",
        "list1[0] = 84\n",
        "list1[1] = 73\n",
        "list1.insert(2,91)\n",
        "print(\"Updated list:\",list1)"
      ],
      "metadata": {
        "colab": {
          "base_uri": "https://localhost:8080/"
        },
        "id": "mIlW6DS38NAH",
        "outputId": "f826f709-5b70-4b0b-e8d6-bcb7e3a58c94"
      },
      "execution_count": 6,
      "outputs": [
        {
          "output_type": "stream",
          "name": "stdout",
          "text": [
            "Updated list: [84, 73, 91, 84, 35, 42, 57, 68]\n"
          ]
        }
      ]
    },
    {
      "cell_type": "code",
      "source": [
        "## Q3. Try to use a for loop to print each element in the list.\n",
        "for i in list1 :\n",
        "    print(i)"
      ],
      "metadata": {
        "colab": {
          "base_uri": "https://localhost:8080/"
        },
        "id": "ZRqE2BXy9_ZQ",
        "outputId": "9b11baf9-051e-4c13-e8a5-87dbe8b0a507"
      },
      "execution_count": 9,
      "outputs": [
        {
          "output_type": "stream",
          "name": "stdout",
          "text": [
            "84\n",
            "73\n",
            "91\n",
            "35\n",
            "42\n",
            "57\n",
            "68\n"
          ]
        }
      ]
    },
    {
      "cell_type": "code",
      "source": [],
      "metadata": {
        "id": "k0V3aj0T-weH"
      },
      "execution_count": null,
      "outputs": []
    },
    {
      "cell_type": "markdown",
      "source": [
        "##  Dictionary Exercise"
      ],
      "metadata": {
        "id": "Wmj8W_nU-zfd"
      }
    },
    {
      "cell_type": "code",
      "source": [
        "## Q1. Create a dictionary with keys 'name', 'age', and 'address' and values 'John', 25, and 'New York' respectively.\n",
        "dict1 = {'name':'John','age':25,'address':'New York'}\n",
        "print(\"The new dictionary :\",dict1)"
      ],
      "metadata": {
        "colab": {
          "base_uri": "https://localhost:8080/"
        },
        "id": "Eu6sATkY-2Jp",
        "outputId": "c9a58630-b88c-4a5a-d55d-8ea3589921a7"
      },
      "execution_count": 12,
      "outputs": [
        {
          "output_type": "stream",
          "name": "stdout",
          "text": [
            "The new dictionary : {'name': 'John', 'age': 25, 'address': 'New York'}\n"
          ]
        }
      ]
    },
    {
      "cell_type": "code",
      "source": [
        "## Q2. Add a new key-value pair to the dictionary created in Q1 with key 'phone' and value '1234567890'.\n",
        "dict1['phone'] = '1234567890'\n",
        "print(\"The updated dictionary :\",dict1)"
      ],
      "metadata": {
        "colab": {
          "base_uri": "https://localhost:8080/"
        },
        "id": "ajOeQgHh_DCa",
        "outputId": "df09b269-52e3-4a60-d1f9-ba91fcebdf45"
      },
      "execution_count": 13,
      "outputs": [
        {
          "output_type": "stream",
          "name": "stdout",
          "text": [
            "The updated dictionary : {'name': 'John', 'age': 25, 'address': 'New York', 'phone': '1234567890'}\n"
          ]
        }
      ]
    },
    {
      "cell_type": "markdown",
      "source": [
        "## Set Exercise"
      ],
      "metadata": {
        "id": "8JoEQ8zbAe-i"
      }
    },
    {
      "cell_type": "code",
      "source": [
        "## Q1.Create a set with values 1, 2, 3, 4, and 5.\n",
        "set1 = {1,2,3,4,5}\n",
        "print(\"The new set :\",set1)"
      ],
      "metadata": {
        "colab": {
          "base_uri": "https://localhost:8080/"
        },
        "id": "MtfLadHlAhPq",
        "outputId": "87ee70d0-89bc-43db-b3cb-6f88e3ac84c5"
      },
      "execution_count": 14,
      "outputs": [
        {
          "output_type": "stream",
          "name": "stdout",
          "text": [
            "The new set : {1, 2, 3, 4, 5}\n"
          ]
        }
      ]
    },
    {
      "cell_type": "code",
      "source": [
        "## Q2. Add the value 6 to the set created in Q1.\n",
        "set1.add(6)\n",
        "print(\"The updated set :\",set1)"
      ],
      "metadata": {
        "colab": {
          "base_uri": "https://localhost:8080/"
        },
        "id": "DNDkPd3KAxDh",
        "outputId": "c4ab2cc2-9782-4864-9872-33c44cc3caef"
      },
      "execution_count": 15,
      "outputs": [
        {
          "output_type": "stream",
          "name": "stdout",
          "text": [
            "The updated set : {1, 2, 3, 4, 5, 6}\n"
          ]
        }
      ]
    },
    {
      "cell_type": "markdown",
      "source": [],
      "metadata": {
        "id": "m3f50ma0AdrZ"
      }
    },
    {
      "cell_type": "code",
      "source": [
        "## Q3. Remove the value 3 from the set created in Q1.\n",
        "set1.remove(3)\n",
        "print(\"The updated set :\",set1)"
      ],
      "metadata": {
        "colab": {
          "base_uri": "https://localhost:8080/"
        },
        "id": "x33KBpEzBIl1",
        "outputId": "d6650e02-ae75-4760-88c5-43bf7109ed7c"
      },
      "execution_count": 17,
      "outputs": [
        {
          "output_type": "stream",
          "name": "stdout",
          "text": [
            "The updated set : {1, 2, 4, 5, 6}\n"
          ]
        }
      ]
    },
    {
      "cell_type": "markdown",
      "source": [
        "## Tuple Exercise"
      ],
      "metadata": {
        "id": "HWTFhgBZCDzK"
      }
    },
    {
      "cell_type": "code",
      "source": [
        "## Q1. Create a tuple with values 1, 2, 3, and 4\n",
        "tuple1 = (1,2,3,4)\n",
        "print(\"The new tuple :\",tuple1)"
      ],
      "metadata": {
        "colab": {
          "base_uri": "https://localhost:8080/"
        },
        "id": "syxDfYoNCFdX",
        "outputId": "8f3e276f-f33d-4566-c011-bcf0845f73fc"
      },
      "execution_count": 18,
      "outputs": [
        {
          "output_type": "stream",
          "name": "stdout",
          "text": [
            "The new tuple : (1, 2, 3, 4)\n"
          ]
        }
      ]
    },
    {
      "cell_type": "code",
      "source": [
        "## Q2. Print the length of the tuple created in Q1.\n",
        "print(\"The length of the tuple :\",len(tuple1))"
      ],
      "metadata": {
        "colab": {
          "base_uri": "https://localhost:8080/"
        },
        "id": "EK64eKgeCOjy",
        "outputId": "f9359b8d-ce39-46a6-a7ee-7c89ee31e1f5"
      },
      "execution_count": 19,
      "outputs": [
        {
          "output_type": "stream",
          "name": "stdout",
          "text": [
            "The length of the tuple : 4\n"
          ]
        }
      ]
    }
  ]
}