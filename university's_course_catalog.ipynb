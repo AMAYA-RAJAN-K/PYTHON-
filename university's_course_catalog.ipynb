{
  "nbformat": 4,
  "nbformat_minor": 0,
  "metadata": {
    "colab": {
      "provenance": [],
      "authorship_tag": "ABX9TyPuMD1P61dUw/guevl8cy8D"
    },
    "kernelspec": {
      "name": "python3",
      "display_name": "Python 3"
    },
    "language_info": {
      "name": "python"
    }
  },
  "cells": [
    {
      "cell_type": "markdown",
      "source": [
        "## Question 1"
      ],
      "metadata": {
        "id": "2yNVv_uRjGry"
      }
    },
    {
      "cell_type": "code",
      "source": [
        "## course_code: a string representing the course code (e.g., \"CS101\")\n",
        "# course_name: a string representing the course name (e.g., \"Introduction to Computer Science\")\n",
        "# credit_hours: an integer representing the credit hours for the course (e.g., 3)\n",
        "# Course\n",
        "class Course:\n",
        "    def __init__(self, course_code, course_name, credit_hours):\n",
        "        self.course_code = course_code\n",
        "        self.course_name = course_name\n",
        "        self.credit_hours = credit_hours\n",
        "\n",
        "    def display_info(self):\n",
        "        return f\"{self.course_code}: {self.course_name} ({self.credit_hours} credit hours)\""
      ],
      "metadata": {
        "id": "YaZxdVxUjJEq"
      },
      "execution_count": null,
      "outputs": []
    },
    {
      "cell_type": "code",
      "source": [
        "# CoreCourse\n",
        "class CoreCourse(Course):\n",
        "    def __init__(self, course_code, course_name, credit_hours, required_for_major):\n",
        "        super().__init__(course_code, course_name, credit_hours)\n",
        "        self.required_for_major = required_for_major\n",
        "\n",
        "    def display_info(self):\n",
        "        status = \"Required\" if self.required_for_major else \"Not Required\"\n",
        "        return super().display_info() + f\" - {status} for major\""
      ],
      "metadata": {
        "id": "zmXILlPgjd0d"
      },
      "execution_count": null,
      "outputs": []
    },
    {
      "cell_type": "code",
      "source": [
        "# ElectiveCourse\n",
        "class ElectiveCourse(Course):\n",
        "    def __init__(self, course_code, course_name, credit_hours, elective_type):\n",
        "        super().__init__(course_code, course_name, credit_hours)\n",
        "        self.elective_type = elective_type\n",
        "\n",
        "    def display_info(self):\n",
        "        return super().display_info() + f\" - Elective Type: {self.elective_type}\""
      ],
      "metadata": {
        "id": "7G0ti4Lzj3y6"
      },
      "execution_count": null,
      "outputs": []
    },
    {
      "cell_type": "code",
      "source": [
        "## input values\n",
        "core = CoreCourse(\"CS101\", \"Introduction to Computer Science\", 3, True)\n",
        "elective = ElectiveCourse(\"CS201\", \"Data Structures\", 3, \"technical\")\n",
        "\n",
        "print(core.display_info())\n",
        "print(elective.display_info())\n"
      ],
      "metadata": {
        "colab": {
          "base_uri": "https://localhost:8080/"
        },
        "id": "dH42C8ggkDht",
        "outputId": "d82a69ac-d809-4c56-b07c-094b5bfa6f5c"
      },
      "execution_count": null,
      "outputs": [
        {
          "output_type": "stream",
          "name": "stdout",
          "text": [
            "CS101: Introduction to Computer Science (3 credit hours) - Required for major\n",
            "CS201: Data Structures (3 credit hours) - Elective Type: technical\n"
          ]
        }
      ]
    }
  ]
}