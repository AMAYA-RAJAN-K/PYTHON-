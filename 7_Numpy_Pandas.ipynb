{
  "nbformat": 4,
  "nbformat_minor": 0,
  "metadata": {
    "colab": {
      "provenance": [],
      "authorship_tag": "ABX9TyMQiZVxk08vnn1SA7ResKSD"
    },
    "kernelspec": {
      "name": "python3",
      "display_name": "Python 3"
    },
    "language_info": {
      "name": "python"
    }
  },
  "cells": [
    {
      "cell_type": "markdown",
      "source": [
        "## Exercise 1"
      ],
      "metadata": {
        "id": "tWRPfqMYeGw_"
      }
    },
    {
      "cell_type": "code",
      "execution_count": 2,
      "metadata": {
        "colab": {
          "base_uri": "https://localhost:8080/"
        },
        "id": "0bidHAz4d8VT",
        "outputId": "8951ab47-028e-4270-a5da-a4242005d8b8"
      },
      "outputs": [
        {
          "output_type": "stream",
          "name": "stdout",
          "text": [
            "[[ 1  2  3  4  5]\n",
            " [ 6  7  8  9 10]]\n"
          ]
        }
      ],
      "source": [
        "##  Create a numpy array containing the numbers from 1 to 10, and then reshape it to a 2x5 matrix.\n",
        "\n",
        "import numpy as np\n",
        "import pandas as pd\n",
        "\n",
        "arr = np.arange(1, 11)\n",
        "matrix = arr.reshape(2, 5)\n",
        "\n",
        "print(matrix)"
      ]
    },
    {
      "cell_type": "markdown",
      "source": [
        "## Exercise 2"
      ],
      "metadata": {
        "id": "_7g7Hatoe40c"
      }
    },
    {
      "cell_type": "code",
      "source": [
        "## Create a numpy array containing the numbers from 1 to 20, and then extract the elements between the 5th and 15th index.\n",
        "\n",
        "arr = np.arange(1, 21)\n",
        "extracted_elements = arr[5:16]\n",
        "\n",
        "print(arr)\n",
        "print(extracted_elements)"
      ],
      "metadata": {
        "colab": {
          "base_uri": "https://localhost:8080/"
        },
        "id": "raE1f4V2eN1a",
        "outputId": "1229b8e3-cc50-4a2a-9713-38dca5980d01"
      },
      "execution_count": 4,
      "outputs": [
        {
          "output_type": "stream",
          "name": "stdout",
          "text": [
            "[ 1  2  3  4  5  6  7  8  9 10 11 12 13 14 15 16 17 18 19 20]\n",
            "[ 6  7  8  9 10 11 12 13 14 15 16]\n"
          ]
        }
      ]
    },
    {
      "cell_type": "markdown",
      "source": [
        "## Exercise 3"
      ],
      "metadata": {
        "id": "8zokWZXRfcHp"
      }
    },
    {
      "cell_type": "code",
      "source": [
        "## Create a Pandas series with the following data: {'apples': 3, 'bananas': 2, 'oranges': 1}.\n",
        "# Then, add a new item to the series with the key 'pears' and the value 4.\n",
        "\n",
        "fruits = {'apples': 3, 'bananas': 2, 'oranges': 1}\n",
        "series = pd.Series(fruits)\n",
        "\n",
        "series['pears'] = 4\n",
        "\n",
        "print(series)\n"
      ],
      "metadata": {
        "colab": {
          "base_uri": "https://localhost:8080/"
        },
        "id": "cnx1IbOWfg3X",
        "outputId": "37360caa-27b9-4c3d-8802-2d61375a1d31"
      },
      "execution_count": 5,
      "outputs": [
        {
          "output_type": "stream",
          "name": "stdout",
          "text": [
            "apples     3\n",
            "bananas    2\n",
            "oranges    1\n",
            "pears      4\n",
            "dtype: int64\n"
          ]
        }
      ]
    },
    {
      "cell_type": "markdown",
      "source": [
        "## Exercise 4"
      ],
      "metadata": {
        "id": "csJlJAougCQQ"
      }
    },
    {
      "cell_type": "code",
      "source": [
        "## Create a dataframe with the following columns: name, age, and gender. The dataframe should have 10 rows of data.\n",
        "\n",
        "data = {\n",
        "    'name': ['Alice', 'Bob', 'Charlie', 'David', 'Eve', 'Frank', 'Grace', 'Helen', 'Ivy', 'Jack'],\n",
        "    'age': np.random.randint(20, 50, size=10),\n",
        "    'gender': ['Female','Male','Male','Male','Female','Male','Female','Female','Female','Male']\n",
        "}\n",
        "df = pd.DataFrame(data)\n",
        "print(df)"
      ],
      "metadata": {
        "colab": {
          "base_uri": "https://localhost:8080/"
        },
        "id": "DYF5JNUDgZtZ",
        "outputId": "c6687249-819d-4d4d-f405-32f1fda4a76f"
      },
      "execution_count": 7,
      "outputs": [
        {
          "output_type": "stream",
          "name": "stdout",
          "text": [
            "      name  age  gender\n",
            "0    Alice   29  Female\n",
            "1      Bob   42    Male\n",
            "2  Charlie   26    Male\n",
            "3    David   37    Male\n",
            "4      Eve   29  Female\n",
            "5    Frank   31    Male\n",
            "6    Grace   47  Female\n",
            "7    Helen   47  Female\n",
            "8      Ivy   30  Female\n",
            "9     Jack   43    Male\n"
          ]
        }
      ]
    },
    {
      "cell_type": "markdown",
      "source": [
        "## Exercise 5"
      ],
      "metadata": {
        "id": "mpZsLLxYiZ85"
      }
    },
    {
      "cell_type": "code",
      "source": [
        "## Add a new column to the data frame created in question 1, called occupation.\n",
        "# The values for this column should be Programmer, Manager, and Analyst, corresponding to the rows in the dataframe.\n",
        "\n",
        "df['occupation'] = (['Programmer', 'Manager', 'Analyst','Manager','Programmer','Manager','Analyst','Programmer','Analyst','Programmer'])\n",
        "\n",
        "print(df)\n"
      ],
      "metadata": {
        "colab": {
          "base_uri": "https://localhost:8080/"
        },
        "id": "W7RLiEF9io6C",
        "outputId": "9fb475e1-717c-4e06-c140-c724235d37fc"
      },
      "execution_count": 12,
      "outputs": [
        {
          "output_type": "stream",
          "name": "stdout",
          "text": [
            "      name  age  gender  occupation\n",
            "0    Alice   29  Female  Programmer\n",
            "1      Bob   42    Male     Manager\n",
            "2  Charlie   26    Male     Analyst\n",
            "3    David   37    Male     Manager\n",
            "4      Eve   29  Female  Programmer\n",
            "5    Frank   31    Male     Manager\n",
            "6    Grace   47  Female     Analyst\n",
            "7    Helen   47  Female  Programmer\n",
            "8      Ivy   30  Female     Analyst\n",
            "9     Jack   43    Male  Programmer\n"
          ]
        }
      ]
    },
    {
      "cell_type": "markdown",
      "source": [
        "## Exercise 6\n"
      ],
      "metadata": {
        "id": "yVUrkQjbkn65"
      }
    },
    {
      "cell_type": "code",
      "source": [
        "## Select the rows of the dataframe where the age is greater than or equal to 30.\n",
        "\n",
        "df_filtered = df[df['age'] >= 30]\n",
        "\n",
        "print(df_filtered)"
      ],
      "metadata": {
        "colab": {
          "base_uri": "https://localhost:8080/"
        },
        "id": "5diDiaaokxMb",
        "outputId": "53aed29f-7cb9-4e89-b5d9-c90d53474f2e"
      },
      "execution_count": 13,
      "outputs": [
        {
          "output_type": "stream",
          "name": "stdout",
          "text": [
            "    name  age  gender  occupation\n",
            "1    Bob   42    Male     Manager\n",
            "3  David   37    Male     Manager\n",
            "5  Frank   31    Male     Manager\n",
            "6  Grace   47  Female     Analyst\n",
            "7  Helen   47  Female  Programmer\n",
            "8    Ivy   30  Female     Analyst\n",
            "9   Jack   43    Male  Programmer\n"
          ]
        }
      ]
    },
    {
      "cell_type": "markdown",
      "source": [
        "## Exercise 7"
      ],
      "metadata": {
        "id": "MK3binohlAaq"
      }
    },
    {
      "cell_type": "code",
      "source": [
        "## Convert this dataframe to a csv file and read that csv file, finally display the contents.\n",
        "\n",
        "df.to_csv(\"data_ex7.csv\", index=False)\n",
        "df_read = pd.read_csv(\"data_ex7.csv\")\n",
        "print(\"\\n Data \\n\", df_read)"
      ],
      "metadata": {
        "colab": {
          "base_uri": "https://localhost:8080/"
        },
        "id": "DXsDlRZqk7mF",
        "outputId": "92914159-bbb4-4b40-e228-ed2af4f609b6"
      },
      "execution_count": 14,
      "outputs": [
        {
          "output_type": "stream",
          "name": "stdout",
          "text": [
            "\n",
            " Data \n",
            "       name  age  gender  occupation\n",
            "0    Alice   29  Female  Programmer\n",
            "1      Bob   42    Male     Manager\n",
            "2  Charlie   26    Male     Analyst\n",
            "3    David   37    Male     Manager\n",
            "4      Eve   29  Female  Programmer\n",
            "5    Frank   31    Male     Manager\n",
            "6    Grace   47  Female     Analyst\n",
            "7    Helen   47  Female  Programmer\n",
            "8      Ivy   30  Female     Analyst\n",
            "9     Jack   43    Male  Programmer\n"
          ]
        }
      ]
    }
  ]
}