{
  "nbformat": 4,
  "nbformat_minor": 0,
  "metadata": {
    "colab": {
      "provenance": [],
      "authorship_tag": "ABX9TyNvREPXPXb6ZNGOIdAMf+sj",
      "include_colab_link": true
    },
    "kernelspec": {
      "name": "python3",
      "display_name": "Python 3"
    },
    "language_info": {
      "name": "python"
    }
  },
  "cells": [
    {
      "cell_type": "markdown",
      "metadata": {
        "id": "view-in-github",
        "colab_type": "text"
      },
      "source": [
        "<a href=\"https://colab.research.google.com/github/AMAYA-RAJAN-K/PYTHON-/blob/main/MonthNames.ipynb\" target=\"_parent\"><img src=\"https://colab.research.google.com/assets/colab-badge.svg\" alt=\"Open In Colab\"/></a>"
      ]
    },
    {
      "cell_type": "markdown",
      "source": [
        "## Exercise 1"
      ],
      "metadata": {
        "id": "sRSqd-9B7BcY"
      }
    },
    {
      "cell_type": "code",
      "source": [
        "## Write a program that reads an integer value between 1 and 12 from the user and prints output the corresponding month of the year.\n",
        "\n",
        "month = int(input(\"Enter the month: \"))\n",
        "months = [\"January\", \"February\", \"March\", \"April\", \"May\", \"June\",\n",
        "          \"July\", \"August\", \"September\", \"October\", \"November\", \"December\"]\n",
        "if 1 <= month <= 12:\n",
        "    print(f\"Month {month} is {months[month - 1]}\")\n",
        "else:\n",
        "    print(\"Invalid month! Please enter a number between 1 and 12.\")\n"
      ],
      "metadata": {
        "colab": {
          "base_uri": "https://localhost:8080/"
        },
        "id": "tI6834vk7RKZ",
        "outputId": "75609349-c1d0-4724-9384-452ccb98f215"
      },
      "execution_count": 5,
      "outputs": [
        {
          "output_type": "stream",
          "name": "stdout",
          "text": [
            "Enter the month: 3\n",
            "Month 3 is March\n"
          ]
        }
      ]
    },
    {
      "cell_type": "markdown",
      "source": [
        "## Exercise 2"
      ],
      "metadata": {
        "id": "DUtBt-j77o94"
      }
    },
    {
      "cell_type": "code",
      "source": [
        "## A certain cinema currently sells tickets for a full price of 6 pounds, but always sells tickets\n",
        "# for half price to people who are less than 16 years old,\n",
        "# and for a third of the price for people who are 60 years old or more.\n",
        "age = int(input(\"Enter your age: \"))\n",
        "full_price = 6\n",
        "if age < 16:\n",
        "    price = full_price / 2\n",
        "elif age >= 60:\n",
        "    price = full_price / 3\n",
        "else:\n",
        "    price = full_price\n",
        "print(f\"Your ticket costs £{price:.2f}\")"
      ],
      "metadata": {
        "colab": {
          "base_uri": "https://localhost:8080/"
        },
        "id": "PCHs7NvV7uKb",
        "outputId": "a9b1605b-2ece-4248-d9dc-e4b1f4dabeab"
      },
      "execution_count": 10,
      "outputs": [
        {
          "output_type": "stream",
          "name": "stdout",
          "text": [
            "Enter your age: 4\n",
            "Your ticket costs £3.00\n"
          ]
        }
      ]
    }
  ]
}