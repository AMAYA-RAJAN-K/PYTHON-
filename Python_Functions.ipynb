{
  "nbformat": 4,
  "nbformat_minor": 0,
  "metadata": {
    "colab": {
      "provenance": [],
      "authorship_tag": "ABX9TyPUC75bYq/wXrDtDD5fwb5d",
      "include_colab_link": true
    },
    "kernelspec": {
      "name": "python3",
      "display_name": "Python 3"
    },
    "language_info": {
      "name": "python"
    }
  },
  "cells": [
    {
      "cell_type": "markdown",
      "metadata": {
        "id": "view-in-github",
        "colab_type": "text"
      },
      "source": [
        "<a href=\"https://colab.research.google.com/github/AMAYA-RAJAN-K/PYTHON-/blob/main/Python_Functions.ipynb\" target=\"_parent\"><img src=\"https://colab.research.google.com/assets/colab-badge.svg\" alt=\"Open In Colab\"/></a>"
      ]
    },
    {
      "cell_type": "markdown",
      "source": [],
      "metadata": {
        "id": "7sBOJQqN8L8D"
      }
    },
    {
      "cell_type": "markdown",
      "source": [
        "## Functionality of len()"
      ],
      "metadata": {
        "id": "IWyOpmbV8ZFD"
      }
    },
    {
      "cell_type": "code",
      "source": [
        "# The len() function in Python is used to determine the number of elements in an object, such as a list, string, or tuple.\n",
        "\n",
        "# Example:\n",
        "list1 = [10, 20, 30, 40, 50]\n",
        "length = len(list1)\n",
        "print(f\"The length of the list is: {length}\")\n"
      ],
      "metadata": {
        "colab": {
          "base_uri": "https://localhost:8080/"
        },
        "id": "r9TaOF8M8ROe",
        "outputId": "10dde1f0-cac5-4249-8d23-7ced5a2322cd"
      },
      "execution_count": null,
      "outputs": [
        {
          "output_type": "stream",
          "name": "stdout",
          "text": [
            "The length of the list is: 5\n"
          ]
        }
      ]
    },
    {
      "cell_type": "markdown",
      "source": [
        "## Function to greet a person by name"
      ],
      "metadata": {
        "id": "WUpr2Jn_9I54"
      }
    },
    {
      "cell_type": "code",
      "source": [
        "## Write a Python function greet(name) that takes a person's name as input and prints \"Hello, [name]!\".\n",
        "def greet_user(name = \"Guest\"):\n",
        "    print(f\"Hello, {name}!\")"
      ],
      "metadata": {
        "id": "Z4WwRK62MrRg"
      },
      "execution_count": null,
      "outputs": []
    },
    {
      "cell_type": "code",
      "source": [
        "greet_user(\"Amaya\")\n",
        "greet_user()"
      ],
      "metadata": {
        "colab": {
          "base_uri": "https://localhost:8080/"
        },
        "id": "DxDb5jewNE2M",
        "outputId": "e7c709a1-c0a8-4d01-be17-cdc21f334cd3"
      },
      "execution_count": null,
      "outputs": [
        {
          "output_type": "stream",
          "name": "stdout",
          "text": [
            "Hello, Amaya!\n",
            "Hello, Guest!\n"
          ]
        }
      ]
    },
    {
      "cell_type": "code",
      "source": [
        "# # Write a Python function find_maximum(numbers) that takes a list of integers and returns the maximum value without using the\n",
        "# built-in max() function. Use a loop to iterate through the list and compare values.\n",
        "\n",
        "numbers = [10, 20, 30, 40, 50]\n",
        "def find_maximum(numbers):\n",
        "    max_value = numbers[0]\n",
        "    for num in numbers:\n",
        "        if num > max_value:\n",
        "            max_value = num\n",
        "    return max_value\n",
        "\n",
        "print(\"The maximum value in the list is:\", find_maximum(numbers))"
      ],
      "metadata": {
        "colab": {
          "base_uri": "https://localhost:8080/"
        },
        "id": "dzzqdz5vOJpU",
        "outputId": "f543c5c8-f3d6-4cdc-904a-c7f7c99c7561"
      },
      "execution_count": null,
      "outputs": [
        {
          "output_type": "stream",
          "name": "stdout",
          "text": [
            "The maximum value in the list is: 50\n"
          ]
        }
      ]
    },
    {
      "cell_type": "code",
      "source": [
        "## Explain the difference between local and global variables in a Python function. Write a program where a global variable and\n",
        "# a local variable has the same name and shows how Python differentiates between them.\n",
        "\n",
        "# Explanation\n",
        "# Local variables are defined inside a function and can only be accessed within that function.\n",
        "# Global variables are defined outside all functions and can be accessed anywhere in the program.\n",
        "\n",
        "# Global variable for the total score\n",
        "\n",
        "score = 50\n",
        "\n",
        "def add_points(points):\n",
        "    # Local variable for temporary score\n",
        "    score = 30  # Temporary score used inside the function\n",
        "    print(f\"Temporary score: {score}\")\n",
        "    score += points  # Adds points to the local score\n",
        "    print(f\"New temporary score: {score}\")\n",
        "\n",
        "# Call the function\n",
        "add_points(40)\n",
        "\n",
        "# Outside the function\n",
        "print(f\"Global score: {score}\")\n",
        "\n"
      ],
      "metadata": {
        "colab": {
          "base_uri": "https://localhost:8080/"
        },
        "id": "Y29Rgh80PPCo",
        "outputId": "05a1f0ac-ffe7-4b67-aee0-826d19064a57"
      },
      "execution_count": null,
      "outputs": [
        {
          "output_type": "stream",
          "name": "stdout",
          "text": [
            "Temporary score: 30\n",
            "New temporary score: 70\n",
            "Global score: 50\n"
          ]
        }
      ]
    },
    {
      "cell_type": "code",
      "source": [
        "## Create a function calculate_area(length, width=5) that calculates the area of a rectangle. If only the length is provided, the function should assume the width is 5.\n",
        "# Show how the function behaves when called with and without the width argument.\n",
        "\n",
        "def calculate_area(length, width=5):\n",
        "\n",
        "    # calculates the area of a rectangle if only the length is provided, the width defaults to 5.\n",
        "\n",
        "    return length * width\n",
        "\n",
        "# Example\n",
        "area_with_width = calculate_area(10, 7)  # Providing both length and width\n",
        "print(f\"The area of the rectangle (length=10, width=7) is: {area_with_width}\")\n",
        "\n",
        "area_without_width = calculate_area(10)  # Providing only the length\n",
        "print(f\"The area of the rectangle (length=10, width=5) is: {area_without_width}\")"
      ],
      "metadata": {
        "colab": {
          "base_uri": "https://localhost:8080/"
        },
        "id": "g96e354FT4jI",
        "outputId": "56389e40-ed40-4287-c13b-cf91d4d413b7"
      },
      "execution_count": null,
      "outputs": [
        {
          "output_type": "stream",
          "name": "stdout",
          "text": [
            "The area of the rectangle (length=10, width=7) is: 70\n",
            "The area of the rectangle (length=10, width=5) is: 50\n"
          ]
        }
      ]
    },
    {
      "cell_type": "code",
      "source": [],
      "metadata": {
        "id": "y-bHKAyGVTG2"
      },
      "execution_count": null,
      "outputs": []
    }
  ]
}