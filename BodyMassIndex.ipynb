{
  "cells": [
    {
      "cell_type": "markdown",
      "metadata": {
        "id": "view-in-github",
        "colab_type": "text"
      },
      "source": [
        "<a href=\"https://colab.research.google.com/github/AMAYA-RAJAN-K/PYTHON-/blob/main/BodyMassIndex.ipynb\" target=\"_parent\"><img src=\"https://colab.research.google.com/assets/colab-badge.svg\" alt=\"Open In Colab\"/></a>"
      ]
    },
    {
      "cell_type": "markdown",
      "metadata": {
        "id": "sM8nUGad7_sr"
      },
      "source": [
        "## Exercise 3"
      ]
    },
    {
      "cell_type": "code",
      "execution_count": null,
      "metadata": {
        "colab": {
          "base_uri": "https://localhost:8080/"
        },
        "id": "pFGj46x6aIIa",
        "outputId": "1ec39353-ac9f-4372-e7e6-47e34013e0e0"
      },
      "outputs": [
        {
          "name": "stdout",
          "output_type": "stream",
          "text": [
            "Enter your weight in (kg): 45\n",
            "Enter your height in (m): 1.5\n",
            "Your BMI is: 20.00\n",
            "You are in the 'normal' range.\n"
          ]
        }
      ],
      "source": [
        "## Write a program to calculate your BMI and give weight status. Body Mass Index (BMI) is an internationally used measurement to check if you are a healthy weight\n",
        "#for your height.The metric BMI formula accepts weight in kilograms and height in meters\n",
        "\n",
        "weight = float(input(\"Enter your weight in (kg): \"))\n",
        "height = float(input(\"Enter your height in (m): \"))\n",
        "bmi = weight / (height ** 2)\n",
        "print(f\"Your BMI is: {bmi:.2f}\")\n",
        "if bmi < 18.5:\n",
        "    print(\"You are in the 'underweight' range.\")\n",
        "elif 18.5 <= bmi <= 24.9:\n",
        "    print(\"You are in the 'normal' range.\")\n",
        "elif 25 <= bmi <= 29.9:\n",
        "    print(\"You are in the 'overweight' range.\")\n",
        "else:\n",
        "    print(\"You are in the 'obese' range.\")\n"
      ]
    },
    {
      "cell_type": "markdown",
      "metadata": {
        "id": "EE24lO5hcJBU"
      },
      "source": [
        "## Exercise 4"
      ]
    },
    {
      "cell_type": "code",
      "execution_count": null,
      "metadata": {
        "colab": {
          "base_uri": "https://localhost:8080/"
        },
        "id": "VHjGkVJicUpL",
        "outputId": "07b9a3d8-fded-4ae6-b703-630ef425c70c"
      },
      "outputs": [
        {
          "name": "stdout",
          "output_type": "stream",
          "text": [
            "Enter the first number: 4\n",
            "Enter the second number: 7\n",
            "Enter the third number: 2\n",
            "The greatest number is: 7.0\n"
          ]
        }
      ],
      "source": [
        "# # Write a Python program to receive 3 numbers from the user and print the\n",
        "# greatest among them.\n",
        "\n",
        "num1 = float(input(\"Enter the first number: \"))\n",
        "num2 = float(input(\"Enter the second number: \"))\n",
        "num3 = float(input(\"Enter the third number: \"))\n",
        "greatest = max(num1, num2, num3)\n",
        "print(f\"The greatest number is: {greatest}\")\n"
      ]
    },
    {
      "cell_type": "markdown",
      "metadata": {
        "id": "pg2o2sHScyQ5"
      },
      "source": [
        "## Exercise 5"
      ]
    },
    {
      "cell_type": "code",
      "execution_count": null,
      "metadata": {
        "colab": {
          "base_uri": "https://localhost:8080/"
        },
        "id": "SUWIyFqac4Bb",
        "outputId": "b354bb73-0479-4c83-8365-f0acd3252659"
      },
      "outputs": [
        {
          "name": "stdout",
          "output_type": "stream",
          "text": [
            "Enter a number: 3\n",
            "The factorial of 3 is 6\n"
          ]
        }
      ],
      "source": [
        "## Find the factorial of a given number using loops(note the number is received from the user\n",
        "\n",
        "num = int(input(\"Enter a number: \"))\n",
        "factorial = 1\n",
        "for i in range(1, num + 1):\n",
        "    factorial *= i\n",
        "print(f\"The factorial of {num} is {factorial}\")\n"
      ]
    },
    {
      "cell_type": "markdown",
      "metadata": {
        "id": "sdlnEANDdQ_A"
      },
      "source": [
        "## Exercise 6"
      ]
    },
    {
      "cell_type": "code",
      "execution_count": null,
      "metadata": {
        "colab": {
          "base_uri": "https://localhost:8080/"
        },
        "id": "INGGK2xddXiZ",
        "outputId": "c20ac65d-e48f-4531-893d-16a70a45f724"
      },
      "outputs": [
        {
          "name": "stdout",
          "output_type": "stream",
          "text": [
            "Enter a number: 78\n",
            "Reversed number: 87\n"
          ]
        }
      ],
      "source": [
        "## Reverse a number using while loop\n",
        "\n",
        "num = int(input(\"Enter a number: \"))\n",
        "reversed_num = 0\n",
        "while num > 0:\n",
        "    digit = num % 10\n",
        "    reversed_num = reversed_num * 10 + digit\n",
        "    num //= 10\n",
        "print(f\"Reversed number: {reversed_num}\")\n"
      ]
    },
    {
      "cell_type": "markdown",
      "metadata": {
        "id": "VM3-1oXSfuFY"
      },
      "source": [
        "## Exercise 7"
      ]
    },
    {
      "cell_type": "code",
      "execution_count": null,
      "metadata": {
        "colab": {
          "base_uri": "https://localhost:8080/"
        },
        "id": "svloTVPmfyq2",
        "outputId": "7ebfc1b0-7011-4f09-9379-62d1d700f100"
      },
      "outputs": [
        {
          "name": "stdout",
          "output_type": "stream",
          "text": [
            "Enter a number: 5\n",
            "Enter the limit: 3\n",
            "Multiples of 5:\n",
            "5\n",
            "10\n",
            "15\n"
          ]
        }
      ],
      "source": [
        "## Finding the multiples of a number using loop\n",
        "\n",
        "number = int(input(\"Enter a number: \"))\n",
        "limit = int(input(\"Enter the limit: \"))\n",
        "print(f\"Multiples of {number}:\")\n",
        "for i in range(1, limit + 1):\n",
        "    print(number * i)\n"
      ]
    },
    {
      "cell_type": "markdown",
      "metadata": {
        "id": "i7nTcC2xgT8m"
      },
      "source": [
        "## Exercise 8"
      ]
    },
    {
      "cell_type": "code",
      "execution_count": 10,
      "metadata": {
        "colab": {
          "base_uri": "https://localhost:8080/"
        },
        "id": "bb1QS7ucgZzI",
        "outputId": "6c16b547-9c05-4e55-a0b4-e74e3a294dc0"
      },
      "outputs": [
        {
          "output_type": "stream",
          "name": "stdout",
          "text": [
            ":finished\n",
            "finished\n",
            ":done\n",
            "Done\n"
          ]
        }
      ],
      "source": [
        "# # Write a program to print the inputted value as it is and break the loop if the value is 'done'\n",
        "while True:\n",
        "    value = input(\":\")\n",
        "    if value == \"done\":\n",
        "        print(\"Done\")\n",
        "        break\n",
        "    print(value)\n",
        "\n"
      ]
    },
    {
      "cell_type": "markdown",
      "metadata": {
        "id": "Q4GALTMGj1dc"
      },
      "source": []
    },
    {
      "cell_type": "markdown",
      "source": [
        "## Exercise 9\n"
      ],
      "metadata": {
        "id": "WWnjGEW-yMPQ"
      }
    },
    {
      "cell_type": "code",
      "source": [
        "## Write a program that prints the numbers from 1 to 10. But for multiples of three print \"Fizz\" instead of the number and\n",
        "#for the multiple of five print \"Buzz\". For numbers which are multiples of both three and five print \"FizzBuzz\"\n",
        "\n",
        "for num in range(1, 11):\n",
        "    if num % 3 == 0 and num % 5 == 0:\n",
        "        print(\"FizzBuzz\")\n",
        "    elif num % 3 == 0:\n",
        "        print(\"Fizz\")\n",
        "    elif num % 5 == 0:\n",
        "        print(\"Buzz\")\n",
        "    else:\n",
        "        print(num)\n"
      ],
      "metadata": {
        "colab": {
          "base_uri": "https://localhost:8080/"
        },
        "id": "3jQPqOiDy050",
        "outputId": "cfcc2d2a-efa7-406c-eaac-1a9b1a62a4f4"
      },
      "execution_count": 11,
      "outputs": [
        {
          "output_type": "stream",
          "name": "stdout",
          "text": [
            "1\n",
            "2\n",
            "Fizz\n",
            "4\n",
            "Buzz\n",
            "Fizz\n",
            "7\n",
            "8\n",
            "Fizz\n",
            "Buzz\n"
          ]
        }
      ]
    },
    {
      "cell_type": "markdown",
      "source": [
        "## Exercise 10"
      ],
      "metadata": {
        "id": "e_wWG_Iszao9"
      }
    },
    {
      "cell_type": "code",
      "source": [
        "## Write a program to print the following pattern:\n",
        "\n",
        "#5 4 3 2 1\n",
        "#4 3 2 1\n",
        "#3 2 1\n",
        "#2 1\n",
        "#1\n",
        "\n",
        "for i in range(5, 0, -1):\n",
        "    for j in range(i, 0, -1):\n",
        "        print(j, end=\" \")\n",
        "    print()\n"
      ],
      "metadata": {
        "colab": {
          "base_uri": "https://localhost:8080/"
        },
        "id": "OGkXuPXxzcQU",
        "outputId": "b676cb96-9f7e-4786-b72c-47b8cbf0a480"
      },
      "execution_count": 12,
      "outputs": [
        {
          "output_type": "stream",
          "name": "stdout",
          "text": [
            "5 4 3 2 1 \n",
            "4 3 2 1 \n",
            "3 2 1 \n",
            "2 1 \n",
            "1 \n"
          ]
        }
      ]
    }
  ],
  "metadata": {
    "colab": {
      "provenance": [],
      "authorship_tag": "ABX9TyOEi0LX/EpPXwaATQN8FSy7",
      "include_colab_link": true
    },
    "kernelspec": {
      "display_name": "Python 3",
      "name": "python3"
    },
    "language_info": {
      "name": "python"
    }
  },
  "nbformat": 4,
  "nbformat_minor": 0
}