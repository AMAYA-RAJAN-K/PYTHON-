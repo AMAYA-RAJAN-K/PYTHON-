{
  "nbformat": 4,
  "nbformat_minor": 0,
  "metadata": {
    "colab": {
      "provenance": [],
      "mount_file_id": "1ystuuX3Dwh6UHD8W8RQguwbBYUOmKeCm",
      "authorship_tag": "ABX9TyO2Bkux7Pc+gUpiAkvvBf+j",
      "include_colab_link": true
    },
    "kernelspec": {
      "name": "python3",
      "display_name": "Python 3"
    },
    "language_info": {
      "name": "python"
    }
  },
  "cells": [
    {
      "cell_type": "markdown",
      "metadata": {
        "id": "view-in-github",
        "colab_type": "text"
      },
      "source": [
        "<a href=\"https://colab.research.google.com/github/AMAYA-RAJAN-K/PYTHON-/blob/main/5_File_and_Exception_Handling.ipynb\" target=\"_parent\"><img src=\"https://colab.research.google.com/assets/colab-badge.svg\" alt=\"Open In Colab\"/></a>"
      ]
    },
    {
      "cell_type": "markdown",
      "source": [
        "## Exercise 1: (score : 1) Write a Python program to read a file and display its contents"
      ],
      "metadata": {
        "id": "21VjJxEIEsMK"
      }
    },
    {
      "cell_type": "code",
      "execution_count": null,
      "metadata": {
        "id": "SPoJ5Y6TEjq2"
      },
      "outputs": [],
      "source": [
        "def read_file(Example_document):\n",
        "    try:\n",
        "        with open(Example_document, 'r') as file:\n",
        "            print(file.read())\n",
        "    except FileNotFoundError:\n",
        "        print(\"File not found!\")"
      ]
    },
    {
      "cell_type": "markdown",
      "source": [
        "## Exercise 2: (score : 1) Write a Python program to copy the contents of one file to another file"
      ],
      "metadata": {
        "id": "8j0ntVODGGT3"
      }
    },
    {
      "cell_type": "code",
      "source": [
        "def copy_file(source, destination):\n",
        "    try:\n",
        "        with open(source, 'r') as src, open(destination, 'w') as dest:\n",
        "            dest.write(src.read())\n",
        "        print(\"File copied successfully.\")\n",
        "    except FileNotFoundError:\n",
        "        print(\"Source file not found!\")\n",
        "\n",
        "# User inputs the file names\n",
        "source = input(\"Enter the source file name: \")\n",
        "destination = input(\"Enter the destination file name: \")\n",
        "\n",
        "# Calling the function\n",
        "copy_file(source, destination)\n"
      ],
      "metadata": {
        "id": "HZ7-2LicIbYz",
        "colab": {
          "base_uri": "https://localhost:8080/"
        },
        "outputId": "10cf479c-a8d9-46ca-a03a-e9001c451e47"
      },
      "execution_count": null,
      "outputs": [
        {
          "output_type": "stream",
          "name": "stdout",
          "text": [
            "Enter the source file name: /content/Example_document.txt\n",
            "Enter the destination file name: /content/Example2_document\n",
            "File copied successfully.\n"
          ]
        }
      ]
    },
    {
      "cell_type": "markdown",
      "source": [
        "## Exercise 3: (score : 2) Write a Python program to read the content of a file and count the total number of words in that file."
      ],
      "metadata": {
        "id": "h76-ekNPZery"
      }
    },
    {
      "cell_type": "code",
      "source": [
        "def count_words(filename):\n",
        "    try:\n",
        "        with open(filename, 'r') as file:\n",
        "            content = file.read()\n",
        "            words = content.split()\n",
        "            print(f\"Total words: {len(words)}\")\n",
        "    except FileNotFoundError:\n",
        "        print(\"File not found!\")"
      ],
      "metadata": {
        "id": "eaJbwFWJZjya"
      },
      "execution_count": 1,
      "outputs": []
    },
    {
      "cell_type": "code",
      "source": [
        "filename = input(\"Enter the file name: \")\n",
        "count_words(filename)"
      ],
      "metadata": {
        "colab": {
          "base_uri": "https://localhost:8080/"
        },
        "id": "ICInIawWZ67f",
        "outputId": "3b29d1dd-afe0-40bc-d60d-43f86f9e2356"
      },
      "execution_count": 2,
      "outputs": [
        {
          "output_type": "stream",
          "name": "stdout",
          "text": [
            "Enter the file name: /content/Example_document.txt\n",
            "Total words: 224\n"
          ]
        }
      ]
    },
    {
      "cell_type": "markdown",
      "source": [
        "## Exercise 4: (score : 1) Write a Python program that prompts the user to input a string and converts it to an integer. Use try-except blocks to handle any exceptions that might occur."
      ],
      "metadata": {
        "id": "Sbe88boxaf9e"
      }
    },
    {
      "cell_type": "code",
      "source": [
        "def convert_to_integer():\n",
        "    user_input = input(\"Enter a number: \")\n",
        "    # converting input to an integer\n",
        "    num = int(user_input)\n",
        "    print(f\"You entered the number: {num}\")\n",
        "\n",
        "convert_to_integer()\n"
      ],
      "metadata": {
        "colab": {
          "base_uri": "https://localhost:8080/",
          "height": 315
        },
        "id": "b993qdWYaefM",
        "outputId": "888d497a-9c2b-4e72-d35a-a2374dcf2996"
      },
      "execution_count": 3,
      "outputs": [
        {
          "name": "stdout",
          "output_type": "stream",
          "text": [
            "Enter a number: abc\n"
          ]
        },
        {
          "output_type": "error",
          "ename": "ValueError",
          "evalue": "invalid literal for int() with base 10: 'abc'",
          "traceback": [
            "\u001b[0;31m---------------------------------------------------------------------------\u001b[0m",
            "\u001b[0;31mValueError\u001b[0m                                Traceback (most recent call last)",
            "\u001b[0;32m<ipython-input-3-9fab87b5aa90>\u001b[0m in \u001b[0;36m<cell line: 0>\u001b[0;34m()\u001b[0m\n\u001b[1;32m      5\u001b[0m     \u001b[0mprint\u001b[0m\u001b[0;34m(\u001b[0m\u001b[0;34mf\"You entered the number: {num}\"\u001b[0m\u001b[0;34m)\u001b[0m\u001b[0;34m\u001b[0m\u001b[0;34m\u001b[0m\u001b[0m\n\u001b[1;32m      6\u001b[0m \u001b[0;34m\u001b[0m\u001b[0m\n\u001b[0;32m----> 7\u001b[0;31m \u001b[0mconvert_to_integer\u001b[0m\u001b[0;34m(\u001b[0m\u001b[0;34m)\u001b[0m\u001b[0;34m\u001b[0m\u001b[0;34m\u001b[0m\u001b[0m\n\u001b[0m",
            "\u001b[0;32m<ipython-input-3-9fab87b5aa90>\u001b[0m in \u001b[0;36mconvert_to_integer\u001b[0;34m()\u001b[0m\n\u001b[1;32m      2\u001b[0m     \u001b[0muser_input\u001b[0m \u001b[0;34m=\u001b[0m \u001b[0minput\u001b[0m\u001b[0;34m(\u001b[0m\u001b[0;34m\"Enter a number: \"\u001b[0m\u001b[0;34m)\u001b[0m\u001b[0;34m\u001b[0m\u001b[0;34m\u001b[0m\u001b[0m\n\u001b[1;32m      3\u001b[0m     \u001b[0;31m# converting input to an integer\u001b[0m\u001b[0;34m\u001b[0m\u001b[0;34m\u001b[0m\u001b[0m\n\u001b[0;32m----> 4\u001b[0;31m     \u001b[0mnum\u001b[0m \u001b[0;34m=\u001b[0m \u001b[0mint\u001b[0m\u001b[0;34m(\u001b[0m\u001b[0muser_input\u001b[0m\u001b[0;34m)\u001b[0m\u001b[0;34m\u001b[0m\u001b[0;34m\u001b[0m\u001b[0m\n\u001b[0m\u001b[1;32m      5\u001b[0m     \u001b[0mprint\u001b[0m\u001b[0;34m(\u001b[0m\u001b[0;34mf\"You entered the number: {num}\"\u001b[0m\u001b[0;34m)\u001b[0m\u001b[0;34m\u001b[0m\u001b[0;34m\u001b[0m\u001b[0m\n\u001b[1;32m      6\u001b[0m \u001b[0;34m\u001b[0m\u001b[0m\n",
            "\u001b[0;31mValueError\u001b[0m: invalid literal for int() with base 10: 'abc'"
          ]
        }
      ]
    },
    {
      "cell_type": "code",
      "source": [
        "def convert_to_integer():\n",
        "    user_input = input(\"Enter a number: \")\n",
        "    # converting input to an integer\n",
        "    num = int(user_input)\n",
        "    print(f\"You entered the number: {num}\")\n",
        "\n",
        "convert_to_integer()"
      ],
      "metadata": {
        "colab": {
          "base_uri": "https://localhost:8080/"
        },
        "id": "7znzfHQ0bp0g",
        "outputId": "af4947b4-de75-4f6f-8ecf-668d3b1d3951"
      },
      "execution_count": 4,
      "outputs": [
        {
          "output_type": "stream",
          "name": "stdout",
          "text": [
            "Enter a number: 123\n",
            "You entered the number: 123\n"
          ]
        }
      ]
    },
    {
      "cell_type": "markdown",
      "source": [
        "## Exercise 5: (score : 1) Write a Python program that prompts the user to input a list of integers and raises an exception if any of the integers in the list are negative."
      ],
      "metadata": {
        "id": "5J9O-RNCb1oP"
      }
    },
    {
      "cell_type": "code",
      "source": [
        "def positive_list():\n",
        "    try:\n",
        "        # Get user input and convert it into a list of integers\n",
        "        numbers = [int(num) for num in input(\"Enter a list of integers (separate by spaces): \").split()]\n",
        "\n",
        "        if any(num < 0 for num in numbers):\n",
        "            raise ValueError(\"Negative numbers are not allowed!\")\n",
        "\n",
        "        print(\"All numbers are positive.\")\n",
        "\n",
        "    except ValueError as e:\n",
        "        print(f\"Error: {e}\")\n",
        "\n",
        "positive_list()\n"
      ],
      "metadata": {
        "colab": {
          "base_uri": "https://localhost:8080/"
        },
        "id": "aOzCr_sze6dr",
        "outputId": "4bf8561c-a798-4580-b5e9-c50e2fdd0f16"
      },
      "execution_count": 20,
      "outputs": [
        {
          "output_type": "stream",
          "name": "stdout",
          "text": [
            "Enter a list of integers (separate by spaces): 2 -4 6 9\n",
            "Error: Negative numbers are not allowed!\n"
          ]
        }
      ]
    },
    {
      "cell_type": "markdown",
      "source": [
        "## Exercise 6: (score : 2) Write a Python program that prompts the user to input a list of integers and computes the average of those integers. Use try-except blocks to handle any exceptions that might occur.use the finally clause to print a message indicating that the program has finished running."
      ],
      "metadata": {
        "id": "_-mt3LSafsil"
      }
    },
    {
      "cell_type": "code",
      "source": [
        "def calculate_average():\n",
        "    try:\n",
        "        # Get user input and convert it to a list of integers\n",
        "        numbers = [int(num) for num in input(\"Enter a list of integers (separate by spaces): \").split()]\n",
        "\n",
        "        if not numbers:\n",
        "            print(\"Cannot compute the average of an empty list.\")\n",
        "            return\n",
        "\n",
        "        # calculate the average\n",
        "        average = sum(numbers) / len(numbers)\n",
        "        print(f\"Average: {average}\")\n",
        "\n",
        "    except ValueError:\n",
        "        print(\"Error: Please enter only integers.\")\n",
        "\n",
        "    finally:\n",
        "        print(\"Program has finished running.\")\n",
        "\n",
        "calculate_average()\n"
      ],
      "metadata": {
        "colab": {
          "base_uri": "https://localhost:8080/"
        },
        "id": "hPl7JH3dhu3f",
        "outputId": "96235a06-88c9-4f7a-b01b-ea0cb08e7ce4"
      },
      "execution_count": 24,
      "outputs": [
        {
          "output_type": "stream",
          "name": "stdout",
          "text": [
            "Enter a list of integers (separate by spaces): 5 6 8 y\n",
            "Error: Please enter only integers.\n",
            "Program has finished running.\n"
          ]
        }
      ]
    },
    {
      "cell_type": "markdown",
      "source": [
        "## Exercise 7 : (score : 2) Write a Python program that prompts the user to input a filename and writes a string to that file. Use try-except blocks to handle any exceptions that might occur and print a welcome message if there is no exception occurred.\n",
        "\n"
      ],
      "metadata": {
        "id": "tNyD6a2risFU"
      }
    },
    {
      "cell_type": "code",
      "source": [
        "def write_to_file():\n",
        "    filename = input(\"Enter the filename: \")\n",
        "\n",
        "    content = input(\"Enter the content to write to the file: \")\n",
        "\n",
        "    file = open(filename, \"w\")\n",
        "    file.write(content)\n",
        "    file.close()\n",
        "\n",
        "    print(\"File written successfully!\")\n",
        "\n",
        "# Calling the function\n",
        "try:\n",
        "    write_to_file()\n",
        "    print(\"Welcome! The file operation was successful.\")\n",
        "except Exception as e:\n",
        "    print(f\"Error occurred: {e}\")"
      ],
      "metadata": {
        "colab": {
          "base_uri": "https://localhost:8080/"
        },
        "id": "nIaBIlFGixSZ",
        "outputId": "7540d07c-f5da-4586-b8ec-b08ff1c88e16"
      },
      "execution_count": 25,
      "outputs": [
        {
          "output_type": "stream",
          "name": "stdout",
          "text": [
            "Enter the filename: /content/Example_document.txt\n",
            "Enter the content to write to the file: hi hello\n",
            "File written successfully!\n",
            "Welcome! The file operation was successful.\n"
          ]
        }
      ]
    }
  ]
}